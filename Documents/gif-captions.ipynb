{
	"nbformat": 4,
	"nbformat_minor": 0,
	"metadata": {
		"colab": {
			"name": "gif-captions",
			"provenance": [],
			"collapsed_sections": [
				"VtNMyBXzWZIp",
				"WnZ8BwcDX2wC"
			]
		},
		"kernelspec": {
			"name": "python3",
			"display_name": "Python 3"
		},
		"language_info": {
			"name": "python"
		}
	},
	"cells": [
		{
			"cell_type": "markdown",
			"source": [
				"# <font class=\"markdown-google-sans\" size=7>**gif-captions** 🔠🖼️</font>\n",
				"\n",
				"> *Pack of scripts providing GIF captions generation.*\n",
				"\n",
				"<br><hr><br>\n",
				"\n",
				"<a href=\"https://github.com/kubinka0505/gif-captions\"><img src=\"https://img.shields.io/badge/github-open-lightgray?logo=github&logoColor=white&style=for-the-badge\"></a>"
			],
			"metadata": {
				"id": "BBXB7wrIUzTf"
			}
		},
		{
			"cell_type": "markdown",
			"source": [
				"# <div class=\"markdown-google-sans\"><font color=lime>**1.**</font> Re/install requirements 📥</div>"
			],
			"metadata": {
				"id": "VtNMyBXzWZIp"
			}
		},
		{
			"cell_type": "code",
			"metadata": {
				"id": "cZHsVkyfUB8T",
				"cellView": "form"
			},
			"source": [
				"#@title <div class=\"markdown-google-sans\">Setup code ⚙️</div>\n",
				"import os\n",
				"import warnings\n",
				"from time import time\n",
				"from pathlib import Path\n",
				"from shutil import rmtree\n",
				"from IPython import display\n",
				"from zipfile import ZipFile\n",
				"from requests import Session\n",
				"from rich import print as rprint\n",
				"\n",
				"try:\n",
				"\tfrom google.colab import files\n",
				"\tis_colab = True\n",
				"except ImportError:\n",
				"\tis_colab = False\n",
				"\n",
				"warnings.filterwarnings(\"ignore\")\n",
				"\n",
				"#-=-=-=-#\n",
				"# Metadata\n",
				"\n",
				"__title__\t= \"gif-captions\"\n",
				"__author__\t= \"kubinka0505\"\n",
				"__credits__ = __author__\n",
				"__version__ = \"1.0\"\n",
				"__date__\t= \"02nd March 2024\"\n",
				"\n",
				"#-=-=-=-#\n",
				"# Code\n",
				"\n",
				"InternetSession = Session()\n",
				"InternetSession.headers.update(\n",
				"\t{\n",
				"\t\t\"User-Agent\":\n",
				"\t\t\"Mozilla/5.0 (Windows NT 10.0; Win32; x32) AppleWebKit/537.36 (KHTML, like Gecko) Chrome/77.0.3865.90 Safari/537.36\"\n",
				"\t}\n",
				")\n",
				"\n",
				"# Directories\n",
				"\n",
				"directory_main = os.getcwd()\n",
				"directory_code = os.path.join(directory_main, __title__)\n",
				"directory_inputs = os.path.join(directory_main, \"_inputs_uploaded\")\n",
				"directory_outputs = os.path.join(directory_main, \"_outputs\")\n",
				"\n",
				"for directory in [directory_code, directory_inputs, directory_outputs]:\n",
				"\tos.makedirs(directory, exist_ok = True)\n",
				"\n",
				"os.environ[\"DIRECTORY_MAIN\"] = directory_main\n",
				"os.environ[\"DIRECTORY_CODE\"] = directory_code\n",
				"os.environ[\"DIRECTORY_OUTPUTS\"] = directory_outputs\n",
				"\n",
				"#-=-=-=-#\n",
				"# Functions\n",
				"\n",
				"def is_URL(url: str) -> bool:\n",
				"\t\"\"\"\n",
				"\tVerifies whether `url` is URL.\n",
				"\n",
				"\tArgs:\n",
				"\t\turl: String URL address.\n",
				"\n",
				"\tReturns:\n",
				"\t\tbool: True if `url` is URL, otherwise False.\n",
				"\t\"\"\"\n",
				"\tfor delimiter in [\"https://\", \"http://\"]:\n",
				"\t\turl = url.split(delimiter)[-1]\n",
				"\turl = \"https://\" + url\n",
				"\n",
				"\ttry:\n",
				"\t\tretval = InternetSession.head(url, allow_redirects = True).ok\n",
				"\texcept Exception as error:\n",
				"\t\tretval = False\n",
				"\n",
				"\treturn retval"
			]
		},
		{
			"cell_type": "code",
			"source": [
				"#@title <div class=\"markdown-google-sans\">Repository 🗃️</div>\n",
				"\n",
				"#-=-=-=-#\n",
				"# Clone\n",
				"\n",
				"if os.path.exists(directory_code):\n",
				"\trmtree(directory_code)\n",
				"\n",
				"!git clone https://github.com/kubinka0505/gif-captions $DIRECTORY_CODE\n",
				"os.chdir(directory_code)\n",
				"\n",
				"print()\n",
				"\n",
				"!python3 -m pip install rich -r requirements.txt --progress-bar off | grep -v \"already\"\n",
				"!apt-get install --reinstall ffmpeg sox pngquant gifsicle -qq > /dev/null 2 >&1\n",
				"\n",
				"os.chdir(directory_main)\n",
				"\n",
				"#-=-=-=-#\n",
				"# Variables\n",
				"\n",
				"main_file = [\n",
				"\tstr(file.resolve())\n",
				"\tfor file in Path(directory_code).glob(\"*.py\")\n",
				"][0]\n",
				"\n",
				"os.environ[\"MAIN_FILE\"] = main_file"
			],
			"metadata": {
				"id": "hbDSICWDfhnM",
				"cellView": "form"
			}
		},
		{
			"cell_type": "markdown",
			"source": [
				"# <div class=\"markdown-google-sans\"><font color=gold>**2.**</font> Upload files 📤</font></div>"
			],
			"metadata": {
				"id": "WnZ8BwcDX2wC"
			}
		},
		{
			"cell_type": "code",
			"source": [
				"#@markdown > ℹ️ Leave empty for manual upload.\n",
				"\n",
				"URL_Visual = \"https://kubinka0505.github.io/assets/media/img/png/Banners/Banner.png\" #@param {type: \"string\"}\n",
				"URL_Audio_Optional = \"\" #@param {type: \"string\"}\n",
				"\n",
				"#@markdown ---\n",
				"\n",
				"Ignore_audio_upload_if_field_is_empty = False #@param {type: \"boolean\"}\n",
				"\n",
				"#-=-=-=-#\n",
				"\n",
				"os.chdir(directory_inputs)\n",
				"\n",
				"# Visual\n",
				"upload_visual = 0\n",
				"\n",
				"if not is_URL(URL_Visual):\n",
				"\trprint(\"[b #FF0000]Visual file URL is empty or invalid![/]\")\n",
				"\tprint()\n",
				"\trprint(\"Upload [b #44AAFF]VISUAL[/] file\")\n",
				"\n",
				"\tupload_visual = 1\n",
				"\tURL_Visual = list(files.upload().keys())\n",
				"\tprint()\n",
				"\tif len(URL_Visual) < 1:\n",
				"\t\trprint(\"[b #FF0000]Visual input file was not provided![/]\")\n",
				"\t\traise SystemExit()\n",
				"\telse:\n",
				"\t\tURL_Visual = URL_Visual[0]\n",
				"\t\tURL_Visual = os.path.join(directory_inputs, URL_Visual)\n",
				"\n",
				"# Audio (optional)\n",
				"URL_Audio = \"\"\n",
				"\n",
				"if not is_URL(URL_Audio_Optional):\n",
				"\tif not Ignore_audio_upload_if_field_is_empty:\n",
				"\t\tif upload_visual:\n",
				"\t\t\tprint(\"\\n\" + \"─\" * 32 + \"\\n\")\n",
				"\t\trprint(\"[b #FFCC00]Audio file URL is empty or invalid![/]\")\n",
				"\t\tprint()\n",
				"\t\trprint(\"Upload [b #44AAFF]AUDIO[/] file\")\n",
				"\n",
				"\t\tURL_Audio = list(files.upload().keys())\n",
				"\t\tprint()\n",
				"\t\tif len(URL_Audio) < 1:\n",
				"\t\t\trprint(\"[b #FFCC00]Audio input file was not provided![/]\")\n",
				"\t\t\tURL_Audio = \"\"\n",
				"\t\telse:\n",
				"\t\t\tURL_Audio = URL_Audio[0]\n",
				"\n",
				"if URL_Audio:\n",
				"\tURL_Audio = os.path.join(directory_inputs, URL_Audio)\n",
				"\n",
				"#-=-=-=-#\n",
				"\n",
				"print(URL_Visual)\n",
				"print(URL_Audio)\n",
				"\n",
				"os.chdir(directory_main)"
			],
			"metadata": {
				"id": "hMlef3jdX4Wt",
				"cellView": "form"
			}
		},
		{
			"cell_type": "markdown",
			"source": [
				"# <div class=\"markdown-google-sans\"><font color=gold>**3.**</font> Generate ➕</div>"
			],
			"metadata": {
				"id": "qZ9CfBZld2pu"
			}
		},
		{
			"cell_type": "code",
			"source": [
				"#@title <div class=\"markdown-google-sans\">Configure 📝</div>\n",
				"\n",
				"#@markdown Required\n",
				"Text = \"An example text :snake:\" #@param {type: \"string\"}\n",
				"\n",
				"#@markdown Optional\n",
				"Wrap = 18 #@param {type: \"slider\", min: 10, max: 25, step: 1}\n",
				"\n",
				"#@markdown Optimization\n",
				"Audio_Bitrate = 224 #@param {type: \"slider\", min: 96, max: 320, step: 16}\n",
				"Delay_Count = 0 #@param {type: \"slider\", min: 2, max: 100, step: 1}\n",
				"Loop_Count = 0 #@param {type: \"slider\", min: 0, max: 50, step: 1}\n",
				"Lossy = 200 #@param {type: \"slider\", min: 1, max: 200, step: 1}\n",
				"\n",
				"#@markdown Styling\n",
				"Font = \"Futura\" #@param [\"Futura\", \"Roboto\"]\n",
				"Text_Color = \"#000\" #@param {type: \"string\"}\n",
				"Background_Color = \"#FFF\" #@param {type: \"string\"}\n",
				"Emoji_Style = \"Twitter\" #@param [\"Apple\", \"Google\", \"Microsoft\", \"Samsung\", \"WhatsApp\", \"Twitter\", \"Facebook\", \"JoyPixels\", \"OpenMoji\", \"EmojiDex\", \"LG\", \"HTC\", \"Mozilla\"]\n",
				"Width = 0 #@param {type: \"slider\", min: 0, max: 2500, step: 1}\n",
				"\n",
				"#@markdown Switches\n",
				"Force_GIF = False #@param {type: \"boolean\"}\n",
				"Encode_WebM = False #@param {type: \"boolean\"}\n",
				"Keep_Session_Directory = False #@param {type: \"boolean\"}\n",
				"Optimization = True #@param {type: \"boolean\"}\n",
				"\n",
				"#-=-=-=-#\n",
				"# Handling\n",
				"\n",
				"if not Text:\n",
				"\trprint(\"[b #FF0000]Text was not provided![/]\")\n",
				"\traise SystemExit()\n",
				"\n",
				"#-=-=-=-#\n",
				"\n",
				"# Required\n",
				"os.environ[\"INPUT_VISUAL\"] = URL_Visual\n",
				"os.environ[\"TEXT\"] = Text\n",
				"\n",
				"# Optional\n",
				"os.environ[\"INPUT_AUDIO\"] = URL_Audio\n",
				"os.environ[\"TEXT_WRAP\"] = str(Wrap)\n",
				"\n",
				"# Optimization\n",
				"os.environ[\"AUDIO_BITRATE\"] = str(Audio_Bitrate)\n",
				"os.environ[\"DELAY_COUNT\"] = str(Delay_Count)\n",
				"os.environ[\"LOOP_COUNT\"] = str(Loop_Count)\n",
				"os.environ[\"LOSSY\"] = str(Lossy)\n",
				"\n",
				"# Styling\n",
				"os.environ[\"FONT\"] = Font + \".otf\"\n",
				"os.environ[\"TEXT_COLOR\"] = Text_Color\n",
				"os.environ[\"BACKGROUND_COLOR\"] = Background_Color\n",
				"os.environ[\"EMOJI_STYLE\"] = Emoji_Style\n",
				"os.environ[\"WIDTH\"] = str(Width)\n",
				"\n",
				"# Switches\n",
				"os.environ[\"FORCE_GIF\"] = \"-togif\" if Force_GIF else \"\"\n",
				"os.environ[\"ENCODE_WEBM\"] = \"-webm\" if Encode_WebM else \"\"\n",
				"os.environ[\"KEEP_SESSION_DIRECTORY\"] = \"-kc\" if Keep_Session_Directory else \"\"\n",
				"os.environ[\"OPTIMIZATION\"] = \"\" if Optimization else \"-nox\""
			],
			"metadata": {
				"cellView": "form",
				"id": "mj7ewLudd5GQ"
			}
		},
		{
			"cell_type": "code",
			"source": [
				"#@title <div class=\"markdown-google-sans\">Run ▶️</div>\n",
				"\n",
				"Verbosity = \"1 (Debug)\" #@param [\"-1 (Silent)\", \"0 (Info)\", \"1 (Debug)\"]\n",
				"Show_Help = False #@param {type: \"boolean\"}\n",
				"\n",
				"Verbosity = Verbosity.split(\" \")[0]\n",
				"\n",
				"#-=-=-=-#\n",
				"\n",
				"os.environ[\"COMMAND_PYTHON\"] = os.sys.executable\n",
				"os.environ[\"COMMAND\"] = os.sys.executable\n",
				"if Show_Help:\n",
				"\tos.environ[\"COMMAND\"] = \"echo\"\n",
				"\n",
				"!$COMMAND $MAIN_FILE \\\n",
				"\t-i \"$INPUT_VISUAL\" -a \"$INPUT_AUDIO\" \\\n",
				"\t-t \"$TEXT\" -w $TEXT_WRAP -sw $WIDTH \\\n",
				"\t-ab $AUDIO_BITRATE \\\n",
				"\t-r $DELAY_COUNT -l $LOOP_COUNT -lsy $LOSSY \\\n",
				"\t-f \"$FONT\" -fg-col \"$TEXT_COLOR\" -bg-col \"$BACKGROUND_COLOR\" -s \"$EMOJI_STYLE\" \\\n",
				"\t$FORCE_GIF $ENCODE_WEBM $KEEP_SESSION_DIRECTORY $OPTIMIZATION $HELP \\\n",
				"\t-od \"$DIRECTORY_OUTPUTS\" -v $VERBOSITY -nod -fpl\n",
				"\n",
				"print()\n",
				"\n",
				"if Show_Help:\n",
				"\t!$COMMAND_PYTHON $MAIN_FILE -h"
			],
			"metadata": {
				"cellView": "form",
				"id": "WlqkqslXnt3F"
			}
		},
		{
			"cell_type": "markdown",
			"source": [
				"# <div class=\"markdown-google-sans\"><font color=lime>**4.**</font> Display latest output file 🖥️</div>\n"
			],
			"metadata": {
				"id": "QYuIWN5PhyDW"
			}
		},
		{
			"cell_type": "code",
			"source": [
				"#@markdown > #### ⚠️ <font color=red>**Due to the base64 encoded output string, running this cell may lead to webpage responsibility failure.**</font>\n",
				"#@markdown > Clear this cell output to revert.\n",
				"#@markdown ---\n",
				"\n",
				"Autoplay_video = False #@param {type: \"boolean\"}\n",
				"Autoplay_video = \"autoplay\" if Autoplay_video else \"\"\n",
				"\n",
				"#-=-=-=-#\n",
				"\n",
				"output_file = sorted(\n",
				"\t[\n",
				"\tstr(File.resolve())\n",
				"\tfor File in Path(directory_outputs).rglob(\"*.*\")\n",
				"\t\tif File.is_file()\n",
				"\t],\n",
				"\n",
				"\tkey = os.path.getmtime\n",
				")[-1]\n",
				"\n",
				"output_format = os.path.splitext(output_file)[1].strip(\".\")\n",
				"\n",
				"#-=-=-=-#\n",
				"# Show\n",
				"\n",
				"display_size = 320\n",
				"is_video = output_format.lower().endswith((\"webm\", \"mp4\"))\n",
				"\n",
				"# Does not work with normal syntax, wontfix\n",
				"display.Video(\n",
				"\toutput_file,\n",
				"\twidth = display_size,\n",
				"\tembed = True,\n",
				"\thtml_attributes = f\"controls {Autoplay_video}\".strip()\n",
				") if is_video else \\\n",
				"display.Image(\n",
				"\tfilename = output_file,\n",
				"\twidth = display_size,\n",
				"\tembed = True\n",
				")"
			],
			"metadata": {
				"cellView": "form",
				"id": "_1VJY8EZbGU7"
			}
		},
		{
			"cell_type": "markdown",
			"source": [
				"---"
			],
			"metadata": {
				"id": "LPUHo2Kn36_g"
			}
		},
		{
			"cell_type": "markdown",
			"source": [
				"# <div class=\"markdown-google-sans\">Utils ⚙️</div>"
			],
			"metadata": {
				"id": "l8sr86bzXDqC"
			}
		},
		{
			"cell_type": "code",
			"source": [
				"#@title <div class=\"markdown-google-sans\">Download archive with output files 🗃️</div>\n",
				"Emphasize_archive_file_name = True #@param {type: \"boolean\"}\n",
				"beggining = \"!_\" if Emphasize_archive_file_name else \"\"\n",
				"\n",
				"#@markdown > ℹ️ Pushes the archive file to top of the explorer's file list (**if** it's sorted by name) by putting `!_` to its file name beggining.\n",
				"\n",
				"#-=-=-=-#\n",
				"\n",
				"__padding = 7\n",
				"archive_path = beggining + \"_\".join((__title__, str(time()).split(\".\")[1][:__padding].rjust(__padding, \"0\")))\n",
				"archive_path += \".zip\"\n",
				"archive_path = os.path.abspath(archive_path)\n",
				"\n",
				"#-=-=-=-#\n",
				"\n",
				"# Archive Creation\n",
				"print(\"Making Archive...\")\n",
				"with ZipFile(archive_path, \"w\", 14, 1, 9) as archive:\n",
				"\tfor file in Path(directory_outputs).rglob(\"*.*\"):\n",
				"\t\tfile = str(file.resolve())\n",
				"\n",
				"\t\tif os.path.isfile(file):\n",
				"\t\t\tArcName = os.path.relpath(file, directory_outputs)\n",
				"\n",
				"\t\t\trprint(f'\\t[b i]Writing [#44AACC]\"{ArcName}\"[/]...')\n",
				"\t\t\tarchive.write(file, ArcName)\n",
				"\n",
				"#-=-=-=-#\n",
				"\n",
				"files.download(archive_path)"
			],
			"metadata": {
				"cellView": "form",
				"id": "iIYnzKL9XEml"
			}
		}
	]
}